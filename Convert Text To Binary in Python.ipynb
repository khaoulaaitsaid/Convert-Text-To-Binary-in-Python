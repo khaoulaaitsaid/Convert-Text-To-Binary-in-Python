{
 "cells": [
  {
   "cell_type": "code",
   "execution_count": 34,
   "id": "5e532ea3-fccf-4785-b9bf-8c15efabf78c",
   "metadata": {},
   "outputs": [
    {
     "name": "stdout",
     "output_type": "stream",
     "text": [
      "65\n",
      "97\n"
     ]
    }
   ],
   "source": [
    "print(ord(\"A\"))\n",
    "print(ord(\"a\"))"
   ]
  },
  {
   "cell_type": "code",
   "execution_count": 35,
   "id": "9e81d70e-a20c-42db-8c99-8dff8b2419a9",
   "metadata": {},
   "outputs": [
    {
     "name": "stdout",
     "output_type": "stream",
     "text": [
      "1000001\n"
     ]
    }
   ],
   "source": [
    "print(format(ord(\"A\"), \"b\"))\n"
   ]
  },
  {
   "cell_type": "code",
   "execution_count": 36,
   "id": "09361e3e-c8d9-47ea-8111-d7437204756b",
   "metadata": {},
   "outputs": [
    {
     "name": "stdout",
     "output_type": "stream",
     "text": [
      "1001000 1100101 1101100 1101100 1101111 100000 1110111 1101111 1110010 1100100 100001 100000 1010100 1101000 1101001 1110011 100000 1101001 1110011 100000 1101101 1111001 100000 1101101 1100101 1110011 1110011 1100001 1100111 1100101\n"
     ]
    }
   ],
   "source": [
    "message = \"Hello word! This is my message\"\n",
    "binary = \" \".join(format(ord(c), \"b\") for c in message)\n",
    "print(binary)"
   ]
  },
  {
   "cell_type": "code",
   "execution_count": 37,
   "id": "93121554-a517-4660-ae79-ba9de7566f29",
   "metadata": {},
   "outputs": [
    {
     "name": "stdout",
     "output_type": "stream",
     "text": [
      "1001000\n"
     ]
    }
   ],
   "source": [
    "print(format(ord(\"H\"), \"b\"))\n"
   ]
  },
  {
   "cell_type": "code",
   "execution_count": 38,
   "id": "58ddb0bc-8be7-4174-9e23-fdb08ff40dbe",
   "metadata": {},
   "outputs": [
    {
     "name": "stdout",
     "output_type": "stream",
     "text": [
      "2\n"
     ]
    }
   ],
   "source": [
    "print(chr(50))"
   ]
  },
  {
   "cell_type": "code",
   "execution_count": 39,
   "id": "c07e0a14-48b0-466b-86b8-df14575a5860",
   "metadata": {},
   "outputs": [
    {
     "name": "stdout",
     "output_type": "stream",
     "text": [
      "F\n"
     ]
    }
   ],
   "source": [
    "print(chr(70))"
   ]
  },
  {
   "cell_type": "code",
   "execution_count": 40,
   "id": "5e5f7545-fa99-4799-b1f9-107a841a6ca7",
   "metadata": {},
   "outputs": [
    {
     "name": "stdout",
     "output_type": "stream",
     "text": [
      "72\n"
     ]
    }
   ],
   "source": [
    "print(int(\"1001000\", 2))"
   ]
  },
  {
   "cell_type": "code",
   "execution_count": 44,
   "id": "cd86096f-ada6-4f00-8227-f02608d2df08",
   "metadata": {},
   "outputs": [
    {
     "name": "stdout",
     "output_type": "stream",
     "text": [
      "Hello word! This is my message\n"
     ]
    }
   ],
   "source": [
    "#decode\n",
    "binary_text = \"1001000 1100101 1101100 1101100 1101111 100000 1110111 1101111 1110010 1100100 100001 100000 1010100 1101000 1101001 1110011 100000 1101001 1110011 100000 1101101 1111001 100000 1101101 1100101 1110011 1110011 1100001 1100111 1100101\"\n",
    "normal = \"\".join(chr(int(c, 2))for c in binary_text.split(\" \"))\n",
    "print(normal)"
   ]
  },
  {
   "cell_type": "code",
   "execution_count": null,
   "id": "a14bdece-cc0b-4583-a79b-45f5580927c5",
   "metadata": {},
   "outputs": [],
   "source": []
  }
 ],
 "metadata": {
  "kernelspec": {
   "display_name": "Python 3 (ipykernel)",
   "language": "python",
   "name": "python3"
  },
  "language_info": {
   "codemirror_mode": {
    "name": "ipython",
    "version": 3
   },
   "file_extension": ".py",
   "mimetype": "text/x-python",
   "name": "python",
   "nbconvert_exporter": "python",
   "pygments_lexer": "ipython3",
   "version": "3.11.3"
  }
 },
 "nbformat": 4,
 "nbformat_minor": 5
}
